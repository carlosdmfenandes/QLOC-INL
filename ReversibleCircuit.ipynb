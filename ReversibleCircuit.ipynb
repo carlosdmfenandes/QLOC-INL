{
 "cells": [
  {
   "cell_type": "code",
   "execution_count": 1,
   "metadata": {},
   "outputs": [
    {
     "data": {
      "text/plain": [
       "fred! (generic function with 4 methods)"
      ]
     },
     "execution_count": 1,
     "metadata": {},
     "output_type": "execute_result"
    }
   ],
   "source": [
    "using BenchmarkTools\n",
    "using Random\n",
    "\n",
    "const SAFETY = true\n",
    "\n",
    "function not!(a::AbstractArray, t=1)\n",
    "    a[t] = !a[t]\n",
    "    return a\n",
    "end\n",
    "\n",
    "cnot(x, y) = x, x ⊻ y\n",
    "\n",
    "function cnot!(a::AbstractArray, c=1, t=2)\n",
    "    if (SAFETY && t == c)\n",
    "         throw(DomainError((c, t),\n",
    "                \"Forbidden Operation.\\nControls and targets must have distinct indices!\"))\n",
    "    end\n",
    "        a[t] = a[t] ⊻ a[c]\n",
    "    return a\n",
    "end\n",
    "\n",
    "toff(x, y, z) = x, y, z ⊻ (x && y)\n",
    "\n",
    "function toff!(a::AbstractArray, c1=1, c2=2, t=3)\n",
    "    if (SAFETY && (t == c1 || t ==c2))\n",
    "        throw(DomainError((c1, c2, t),\n",
    "              \"Forbidden Operation.\\nControls and targets must have distinct indices!\"))\n",
    "    end\n",
    "        a[t] = a[t] ⊻ (a[c1] && a[c2])\n",
    "    return a\n",
    "end\n",
    "\n",
    "fred(x, y, z)=x, y ⊻ (x||(y ⊻ z)), z ⊻ (x&&(y ⊻ z))\n",
    "\n",
    "function fred!(a::AbstractArray, c=1, t1=2, t2=3)\n",
    "     if (SAFETY && (c == t1 || c == t2))\n",
    "        throw(DomainError((c, t1, t2),\n",
    "            \"Forbidden Operation.\\nControls and targets must have distinct indices!\"))\n",
    "    end\n",
    "    if a[c]\n",
    "        a[[t1; t2]] = a[[t2; t1]]\n",
    "    end\n",
    "    return a\n",
    "end"
   ]
  },
  {
   "cell_type": "code",
   "execution_count": 34,
   "metadata": {},
   "outputs": [
    {
     "name": "stderr",
     "output_type": "stream",
     "text": [
      "WARNING: redefinition of constant circuitDict. This may fail, cause incorrect answers, or produce other errors.\n"
     ]
    },
    {
     "data": {
      "text/plain": [
       "docircuit! (generic function with 2 methods)"
      ]
     },
     "execution_count": 34,
     "metadata": {},
     "output_type": "execute_result"
    }
   ],
   "source": [
    "const circuitDict = Dict('t'=>toff!, 'c'=>cnot!, \n",
    "    'n'=>not!, 'f'=>fred!)\n",
    "\n",
    "function parsegate(str)\n",
    "    gateregex = r\"\\d+\"\n",
    "    key = first(str)\n",
    "    numargs = eachmatch(gateregex, str)\n",
    "    #ToDo: maybe compare performance with map! function\n",
    "    numargs = map(x -> parse(Int, x.match), numargs)\n",
    "    return (key, numargs...)\n",
    "end\n",
    "\n",
    "function parsecircuit(str)\n",
    "    circuitregex = r\"[a-zA-Z][^a-zA-Z]*\"\n",
    "    circuitlist = Tuple{Char,Vararg{Int}}[]\n",
    "    for i in eachmatch(circuitregex, str)\n",
    "        gate = parsegate(i.match)\n",
    "        push!(circuitlist, gate)\n",
    "    end\n",
    "    return circuitlist\n",
    "end\n",
    "\n",
    "dogate!(A, gate) = circuitDict[gate[1]](\n",
    "                                    A, gate[2:end]...)\n",
    "\n",
    "dogate!(A, gate::String) = dogate!(A, parsegate(gate)) \n",
    "\n",
    "function docircuit!(A, circuit)\n",
    "    for i in circuit\n",
    "        dogate!(A, i)\n",
    "    end\n",
    "    return A\n",
    "end\n",
    "    \n",
    "docircuit!(A, circ::String) =\n",
    "docircuit!(A, parsecircuit(circ))"
   ]
  },
  {
   "cell_type": "code",
   "execution_count": 118,
   "metadata": {},
   "outputs": [
    {
     "data": {
      "text/plain": [
       "invchuang (generic function with 1 method)"
      ]
     },
     "execution_count": 118,
     "metadata": {},
     "output_type": "execute_result"
    }
   ],
   "source": [
    "function chuang(x,y,z)\n",
    "beg = Bool[x; y; z]\n",
    "beg |> toff! |> cnot! |> not!\n",
    "return beg\n",
    "end\n",
    "chuang!(a::AbstractArray) = a |> toff! |> cnot! |> not!\n",
    "invchuang(a::AbstractArray) = a |> not! |> cnot! |> toff!"
   ]
  },
  {
   "cell_type": "code",
   "execution_count": 35,
   "metadata": {},
   "outputs": [
    {
     "name": "stdout",
     "output_type": "stream",
     "text": [
      "Bool[1, 1, 1, 0, 1, 1, 1]\n",
      "Bool[1, 0, 0, 0, 1, 0, 0]\n",
      "Bool[0, 1, 0, 0, 1, 0, 0]\n",
      "Bool[1, 1, 0, 1, 1, 0, 0]\n",
      "Bool[0, 0, 1, 0, 1, 1, 0]\n",
      "Bool[1, 0, 1, 0, 1, 0, 0]\n",
      "Bool[0, 1, 1, 0, 1, 0, 0]\n",
      "Bool[0, 0, 0, 1, 0, 0, 0]\n",
      "Bool[1, 1, 1, 1]\n",
      "Bool[1, 0, 0, 0]\n",
      "Bool[0, 1, 0, 0]\n",
      "Bool[1, 1, 0, 0]\n",
      "Bool[0, 0, 1, 0]\n",
      "Bool[1, 0, 1, 0]\n",
      "Bool[0, 1, 1, 0]\n",
      "Bool[0, 0, 0, 1]\n"
     ]
    }
   ],
   "source": [
    "precircuit = [\n",
    "    ('t', 1, 2, 3);\n",
    "    ('c', 1, 2);\n",
    "    ('n',1);\n",
    "]\n",
    "\n",
    "circuit = [\n",
    "    ('t', 1, 2, 4);\n",
    "    ('t', 3, 4, 5);\n",
    "    ('n', 1);('n', 2);('n', 3);\n",
    "    ('t', 1, 2, 6);\n",
    "    ('t', 3, 6, 7);\n",
    "    ('n',5);\n",
    "    ('c',5,1);('c',5,2);('c',5,3);\n",
    "    ('c',7,1);('c',7,2);('c',7,3)\n",
    "    ]\n",
    "\n",
    "circuit2 =\n",
    "[\n",
    "    ('n',4)\n",
    "    ('t', 1, 2, 4);\n",
    "    ('t', 1, 3, 4);\n",
    "    ('t', 2, 3, 4);\n",
    "    ('c',1,4);('c',2,4);('c',3,4);\n",
    "    ('c',4,1);('c',4,2);('c',4,3);\n",
    "    ]\n",
    "\n",
    "a = [digits(Bool, i, base=2, pad=7) for i in 0:7]\n",
    "for i in a\n",
    "    print(docircuit!(i,circuit),\"\\n\")\n",
    "end\n",
    "\n",
    "a = [digits(Bool, i, base=2, pad=4) for i in 0:7]\n",
    "for i in a\n",
    "    print(docircuit!(i,circuit2),\"\\n\")\n",
    "end"
   ]
  },
  {
   "cell_type": "code",
   "execution_count": 153,
   "metadata": {
    "scrolled": true
   },
   "outputs": [
    {
     "name": "stdout",
     "output_type": "stream",
     "text": [
      "Bool[1, 0, 0, 0]\n",
      "Bool[0, 1, 0, 0]\n",
      "Bool[1, 1, 0, 0]\n",
      "Bool[0, 0, 1, 0]\n",
      "Bool[1, 0, 1, 0]\n",
      "Bool[0, 1, 1, 0]\n",
      "Bool[0, 0, 0, 1]\n",
      "Bool[1, 1, 1, 1]\n"
     ]
    }
   ],
   "source": [
    "a = [digits(Bool, i, base=2, pad=4) for i in 0:7]\n",
    "for i in a\n",
    "    print(docircuit!(i,[precircuit;circuit2]),\"\\n\")\n",
    "end "
   ]
  },
  {
   "cell_type": "code",
   "execution_count": 37,
   "metadata": {},
   "outputs": [
    {
     "name": "stdout",
     "output_type": "stream",
     "text": [
      "Bool[1, 1, 1, 1]\n",
      "Bool[1, 0, 0, 0]\n",
      "Bool[0, 1, 0, 0]\n",
      "Bool[1, 1, 0, 0]\n",
      "Bool[0, 0, 1, 0]\n",
      "Bool[1, 0, 1, 0]\n",
      "Bool[0, 1, 1, 0]\n",
      "Bool[0, 0, 0, 1]\n"
     ]
    }
   ],
   "source": [
    "a = [digits(Bool, i, base=2, pad=4) for i in 0:7]\n",
    "for i in a\n",
    "    print(docircuit!(i,\n",
    "            \"n4t1.2.4t1.3.4t2.3.4c1.4c2.4c3.4c4.1c4.2c4.3\"),\"\\n\")\n",
    "end "
   ]
  }
 ],
 "metadata": {
  "kernelspec": {
   "display_name": "Julia 1.5.2",
   "language": "julia",
   "name": "julia-1.5"
  },
  "language_info": {
   "file_extension": ".jl",
   "mimetype": "application/julia",
   "name": "julia",
   "version": "1.5.2"
  }
 },
 "nbformat": 4,
 "nbformat_minor": 4
}
